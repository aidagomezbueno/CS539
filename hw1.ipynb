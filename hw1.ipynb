{
  "nbformat": 4,
  "nbformat_minor": 0,
  "metadata": {
    "colab": {
      "provenance": [],
      "collapsed_sections": []
    },
    "kernelspec": {
      "name": "python3",
      "display_name": "Python 3"
    },
    "language_info": {
      "name": "python"
    }
  },
  "cells": [
    {
      "cell_type": "markdown",
      "source": [
        "# Social Media Mining – Homework 1\n",
        "*CS 539 - Social Media Mining | Francesca Spezzano*\n",
        "\n",
        "*Computer Science | Boise State University*\n",
        "\n",
        "*09.21.2022 | Fall 2022*\n",
        "\n",
        "*Aida Gomezbueno Berezo | aidagomezbuenobe@u.boisestate.edu*\n"
      ],
      "metadata": {
        "id": "mH572hNy4lwL"
      }
    },
    {
      "cell_type": "code",
      "source": [
        "import networkx as nx\n",
        "import pandas as pd\n",
        "import requests\n",
        "import io"
      ],
      "metadata": {
        "id": "8i-4b_ErvSJI"
      },
      "execution_count": null,
      "outputs": []
    },
    {
      "cell_type": "markdown",
      "source": [
        "# *Bitcoin OTC*"
      ],
      "metadata": {
        "id": "wmFTfDKbvHXV"
      }
    },
    {
      "cell_type": "code",
      "source": [
        "url = \"https://snap.stanford.edu/data/soc-sign-bitcoinotc.csv.gz\"\n",
        "response = requests.get(url)\n",
        "content = response.content\n",
        "df = pd.read_csv(\n",
        "    io.BytesIO(content), sep=\",\", compression=\"gzip\", header=None\n",
        ")\n",
        "cols = ['StartNode', 'EndNode', 'Weight', 'Time']\n",
        "df.columns = cols\n",
        "print(df)"
      ],
      "metadata": {
        "colab": {
          "base_uri": "https://localhost:8080/"
        },
        "id": "MTrZcV89i-Vq",
        "outputId": "00e1a2a6-e11d-48ca-e22c-2522aecfd454"
      },
      "execution_count": null,
      "outputs": [
        {
          "output_type": "stream",
          "name": "stdout",
          "text": [
            "       StartNode  EndNode  Weight          Time\n",
            "0              6        2       4  1.289242e+09\n",
            "1              6        5       2  1.289242e+09\n",
            "2              1       15       1  1.289243e+09\n",
            "3              4        3       7  1.289245e+09\n",
            "4             13       16       8  1.289254e+09\n",
            "...          ...      ...     ...           ...\n",
            "35587       4499     1810       1  1.453612e+09\n",
            "35588       2731     3901       5  1.453679e+09\n",
            "35589       2731     4897       5  1.453679e+09\n",
            "35590         13     1128       1  1.453680e+09\n",
            "35591       1128       13       2  1.453684e+09\n",
            "\n",
            "[35592 rows x 4 columns]\n"
          ]
        }
      ]
    },
    {
      "cell_type": "code",
      "source": [
        "G=nx.from_pandas_edgelist(df, 'StartNode', 'EndNode', ['Weight', 'Time'])\n",
        "DiG = nx.DiGraph(G)\n",
        "#nx.draw(G, with_labels=True)\n",
        "#plt.show()"
      ],
      "metadata": {
        "id": "7Vrhs-oToAjQ"
      },
      "execution_count": null,
      "outputs": []
    },
    {
      "cell_type": "markdown",
      "source": [
        "# *Computations*"
      ],
      "metadata": {
        "id": "3VJygY0lvDs-"
      }
    },
    {
      "cell_type": "code",
      "source": [
        "number_of_nodes = DiG.number_of_nodes()\n",
        "print(\"Number of nodes: \", number_of_nodes)"
      ],
      "metadata": {
        "colab": {
          "base_uri": "https://localhost:8080/"
        },
        "id": "a4G5vOCkoAsG",
        "outputId": "99e8a746-93a8-4478-a359-e18a89958a42"
      },
      "execution_count": null,
      "outputs": [
        {
          "output_type": "stream",
          "name": "stdout",
          "text": [
            "Number of nodes:  5881\n"
          ]
        }
      ]
    },
    {
      "cell_type": "code",
      "source": [
        "number_of_edges = DiG.number_of_edges()\n",
        "print(\"Number of edges: \", number_of_edges)"
      ],
      "metadata": {
        "colab": {
          "base_uri": "https://localhost:8080/"
        },
        "id": "M_onT4slmP9U",
        "outputId": "3da76c1f-74d1-4d7d-953b-7908750f35c4"
      },
      "execution_count": null,
      "outputs": [
        {
          "output_type": "stream",
          "name": "stdout",
          "text": [
            "Number of edges:  42984\n"
          ]
        }
      ]
    },
    {
      "cell_type": "code",
      "source": [
        "count = 0\n",
        "for (u, v, wt) in DiG.edges.data('Weight'):\n",
        "    if wt < 0:\n",
        "      count+=1\n",
        "      #print(f\"({u}, {v}, {wt})\")\n",
        "percentage_negative_edges = round((count/number_of_edges)*100, 2)\n",
        "print(\"Percentage of negative edges: \", percentage_negative_edges, \"%\")"
      ],
      "metadata": {
        "colab": {
          "base_uri": "https://localhost:8080/"
        },
        "id": "50yOQADUqkd-",
        "outputId": "7ed2c924-fb3c-4c40-e1c4-4cb6f72017d0"
      },
      "execution_count": null,
      "outputs": [
        {
          "output_type": "stream",
          "name": "stdout",
          "text": [
            "Percentage of negative edges:  15.08 %\n"
          ]
        }
      ]
    },
    {
      "cell_type": "code",
      "source": [
        "min = 10000\n",
        "for (u, d) in DiG.degree:\n",
        "    if d < min:\n",
        "      min = d\n",
        "      #print(f\"({u}, {v}, {wt})\")\n",
        "print(\"Minimum node degree: \", min)"
      ],
      "metadata": {
        "colab": {
          "base_uri": "https://localhost:8080/"
        },
        "id": "efb75tl2s8M4",
        "outputId": "64e5dc98-5d44-4adc-df4c-cb98c089b157"
      },
      "execution_count": null,
      "outputs": [
        {
          "output_type": "stream",
          "name": "stdout",
          "text": [
            "Minimum node degree:  2\n"
          ]
        }
      ]
    },
    {
      "cell_type": "code",
      "source": [
        "max = 0\n",
        "for (u, d) in DiG.degree:\n",
        "    if d > max:\n",
        "      max = d\n",
        "      #print(f\"({u}, {v}, {wt})\")\n",
        "print(\"Maximum node degree: \", max)"
      ],
      "metadata": {
        "colab": {
          "base_uri": "https://localhost:8080/"
        },
        "id": "H07t392QsbsF",
        "outputId": "811b7277-a7bf-432e-db3a-dcb7190e6764"
      },
      "execution_count": null,
      "outputs": [
        {
          "output_type": "stream",
          "name": "stdout",
          "text": [
            "Maximum node degree:  1590\n"
          ]
        }
      ]
    },
    {
      "cell_type": "code",
      "source": [
        "#DiG.in_degree"
      ],
      "metadata": {
        "id": "ko-aRQSitsai"
      },
      "execution_count": null,
      "outputs": []
    },
    {
      "cell_type": "code",
      "source": [
        "count = 0\n",
        "max = 0\n",
        "for u, d in DiG.out_degree:\n",
        "  count+=1\n",
        "  if d > max:\n",
        "      max = d\n",
        "print(\"The number of out-degrees is: \", count)\n",
        "print(\"The maximum number of out-degrees in one node is: \", max)\n",
        "#G.out_degree"
      ],
      "metadata": {
        "colab": {
          "base_uri": "https://localhost:8080/"
        },
        "id": "WPHfX-R8u6mq",
        "outputId": "f60ebd7b-48b3-44b7-b29a-1d3545d9c16e"
      },
      "execution_count": null,
      "outputs": [
        {
          "output_type": "stream",
          "name": "stdout",
          "text": [
            "The number of out-degrees is:  5881\n",
            "The maximum number of out-degrees in one node is:  795\n"
          ]
        }
      ]
    },
    {
      "cell_type": "code",
      "source": [
        "count = 0\n",
        "min = 10000\n",
        "for u, d in DiG.in_degree:\n",
        "  count+=1\n",
        "  if d < min:\n",
        "      min = d\n",
        "\n",
        "print(\"The number of in-degrees is: \", count)\n",
        "print(\"The minimum number of out-degrees in one node is: \", min)"
      ],
      "metadata": {
        "colab": {
          "base_uri": "https://localhost:8080/"
        },
        "id": "N6sZ6pakvMso",
        "outputId": "694329ad-bfbc-48dd-e9ce-7ffef8488396"
      },
      "execution_count": null,
      "outputs": [
        {
          "output_type": "stream",
          "name": "stdout",
          "text": [
            "The number of in-degrees is:  5881\n",
            "The minimum number of out-degrees in one node is:  1\n"
          ]
        }
      ]
    },
    {
      "cell_type": "code",
      "source": [
        "intTimes = []\n",
        "max = 0\n",
        "min = 30000000000000\n",
        "for n, nbrs in DiG.adj.items():\n",
        "   for nbr, eattr in nbrs.items():\n",
        "     for t in [eattr['Time']]:\n",
        "       eattr['Time'] = datetime.datetime.fromtimestamp(t)\n",
        "       time = datetime.datetime.fromtimestamp(t);\n",
        "       intTime = int(time.strftime(\"%s\"))\n",
        "       intTimes.append(intTime)\n",
        "       \n",
        "for i in intTimes:\n",
        "  if i>max:\n",
        "    max = i\n",
        "\n",
        "for i in intTimes:\n",
        "  if i<min:\n",
        "    min = i\n",
        "\n",
        "max = datetime.datetime.fromtimestamp(max)\n",
        "min = datetime.datetime.fromtimestamp(min)\n",
        "\n",
        "print(\"The minimum edge creation timestamps is: \", min)\n",
        "print(\"The maximum edge creation timestamps is: \", max)\n",
        "\n"
      ],
      "metadata": {
        "colab": {
          "base_uri": "https://localhost:8080/"
        },
        "id": "H63dI3Jg0Wzc",
        "outputId": "9971d511-2a46-475b-edac-5b91fbbc9957"
      },
      "execution_count": null,
      "outputs": [
        {
          "output_type": "stream",
          "name": "stdout",
          "text": [
            "The minimum edge creation timestamps is:  2010-11-08 19:05:40\n",
            "The maximum edge creation timestamps is:  2016-01-25 01:12:03\n"
          ]
        }
      ]
    },
    {
      "cell_type": "markdown",
      "source": [
        "# *Connectivity components*"
      ],
      "metadata": {
        "id": "5GPORwYLx55X"
      }
    },
    {
      "cell_type": "code",
      "source": [
        "print(\"Is the graph connected?\", nx.is_connected(G))"
      ],
      "metadata": {
        "colab": {
          "base_uri": "https://localhost:8080/"
        },
        "id": "_5dJL9X-o1zu",
        "outputId": "f738e099-81a1-4018-fae6-6cb25ff74e2c"
      },
      "execution_count": null,
      "outputs": [
        {
          "output_type": "stream",
          "name": "stdout",
          "text": [
            "Is the graph connected? False\n"
          ]
        }
      ]
    },
    {
      "cell_type": "code",
      "source": [
        "strongly_connected_comp = nx.number_strongly_connected_components(DiG)\n",
        "print(\"Number of strongly connected components: \", strongly_connected_comp)"
      ],
      "metadata": {
        "colab": {
          "base_uri": "https://localhost:8080/"
        },
        "id": "PwZQEDVcsY2a",
        "outputId": "29629008-4bdd-4fcf-8837-d902da808094"
      },
      "execution_count": null,
      "outputs": [
        {
          "output_type": "stream",
          "name": "stdout",
          "text": [
            "Number of strongly connected components:  4\n"
          ]
        }
      ]
    },
    {
      "cell_type": "code",
      "source": [
        "weakly_connected_comp = nx.number_weakly_connected_components(DiG)\n",
        "print(\"Number of weakly connected components: \", weakly_connected_comp)"
      ],
      "metadata": {
        "colab": {
          "base_uri": "https://localhost:8080/"
        },
        "id": "wqq7OYbBslMw",
        "outputId": "8014ec04-1620-4d1b-9d53-85a3deb65f93"
      },
      "execution_count": null,
      "outputs": [
        {
          "output_type": "stream",
          "name": "stdout",
          "text": [
            "Number of weakly connected components:  4\n"
          ]
        }
      ]
    },
    {
      "cell_type": "code",
      "source": [
        "#print(nx.weakly_connected_components(DiG))\n",
        "comp = [\n",
        "    len(c)\n",
        "    for c in sorted(nx.weakly_connected_components(DiG), key=len, reverse=True)\n",
        "]\n",
        "comp\n",
        "print(\"The diameter of the largest weakly connected component, which is\", comp, \"is: \", len(comp))"
      ],
      "metadata": {
        "colab": {
          "base_uri": "https://localhost:8080/"
        },
        "id": "3_rTvaHSsytP",
        "outputId": "20aadf4a-1cba-43d2-e397-35719b83af9e"
      },
      "execution_count": null,
      "outputs": [
        {
          "output_type": "stream",
          "name": "stdout",
          "text": [
            "The diameter of the largest weakly connected component, which is [5875, 2, 2, 2] is:  4\n"
          ]
        }
      ]
    }
  ]
}
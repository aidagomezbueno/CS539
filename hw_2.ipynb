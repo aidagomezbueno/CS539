{
  "nbformat": 4,
  "nbformat_minor": 0,
  "metadata": {
    "colab": {
      "provenance": [],
      "collapsed_sections": [],
      "mount_file_id": "1mA3Hvz5PPpNYS0Ptj0RHtMvjw4KdlFhV",
      "authorship_tag": "ABX9TyNPjEeOC2XKzfXvibHvo7vr",
      "include_colab_link": true
    },
    "kernelspec": {
      "name": "python3",
      "display_name": "Python 3"
    },
    "language_info": {
      "name": "python"
    }
  },
  "cells": [
    {
      "cell_type": "markdown",
      "metadata": {
        "id": "view-in-github",
        "colab_type": "text"
      },
      "source": [
        "<a href=\"https://colab.research.google.com/github/aidagomezbueno/CS539/blob/main/hw_2.ipynb\" target=\"_parent\"><img src=\"https://colab.research.google.com/assets/colab-badge.svg\" alt=\"Open In Colab\"/></a>"
      ]
    },
    {
      "cell_type": "markdown",
      "source": [
        "# Social Media Mining – Homework 2\n",
        "*CS 539 - Social Media Mining | Francesca Spezzano*\n",
        "\n",
        "*Computer Science | Boise State University*\n",
        "\n",
        "*10.18.2022 | Fall 2022*\n",
        "\n",
        "*Aida Gomezbueno Berezo | aidagomezbuenobe@u.boisestate.edu*\n"
      ],
      "metadata": {
        "id": "xZqCUpOmw91i"
      }
    },
    {
      "cell_type": "code",
      "source": [
        "import networkx as nx\n",
        "import pandas as pd\n",
        "import numpy as np\n",
        "import matplotlib.pyplot as plt"
      ],
      "metadata": {
        "id": "8i-4b_ErvSJI"
      },
      "execution_count": 6,
      "outputs": []
    },
    {
      "cell_type": "markdown",
      "source": [
        "### 115th House retweets\n",
        "*The “115th House retweets” is a political network where nodes represent 115th House congress **members** and edges represent **retweets** among them, i.e., edge (u,v) means u retweeted v at least once.*\n"
      ],
      "metadata": {
        "id": "wmFTfDKbvHXV"
      }
    },
    {
      "cell_type": "code",
      "source": [
        "graph = nx.read_gexf(\"115th House retweets.gexf\")\n",
        "G = graph.to_undirected()"
      ],
      "metadata": {
        "id": "MTrZcV89i-Vq"
      },
      "execution_count": 7,
      "outputs": []
    },
    {
      "cell_type": "code",
      "source": [
        "#Largest connected component computation\n",
        "largest_cc = max(nx.connected_components(G), key=len)\n",
        "G0 = G.subgraph(largest_cc)"
      ],
      "metadata": {
        "id": "a4G5vOCkoAsG"
      },
      "execution_count": 8,
      "outputs": []
    },
    {
      "cell_type": "markdown",
      "source": [
        " ### Real-world social networks' properties.\n",
        " \n",
        "\n",
        "*   Power law degree distribution.\n",
        "*   High average local clustering coefficient.\n",
        "*   Low average path length."
      ],
      "metadata": {
        "id": "lgVbZ_s114VM"
      }
    },
    {
      "cell_type": "markdown",
      "source": [
        "#### Power - law distribution test:\n",
        "*   *Pick the measure and compute it for the whole network.*\n",
        "*   *Compute p(k), the fraction of individuals having popularity k.*\n",
        "*   *Plot a log-log graph, where the x-axis represents ln k and the y-axis represents ln p(k).*\n",
        "*   *If a power-law distribution exists, we should observe a straight line.*"
      ],
      "metadata": {
        "id": "jmjhqEfV8n4v"
      }
    },
    {
      "cell_type": "code",
      "source": [
        "#We say that two related quantities a and and b follow a power law if one quantity varies as a power of another.\n",
        "n_nodes = G0.number_of_nodes()\n",
        "node_list = []\n",
        "degree_list = []\n",
        "for n, d in G0.degree:\n",
        "  node_list.append(n)\n",
        "  degree_list.append(d)\n",
        "\n",
        "#Node: member.\n",
        "#Degree: # of members with who each member has exchanged RTs.\n",
        "cols = ['Node'] \n",
        "df = pd.DataFrame(node_list, columns=cols)\n",
        "df['Degree'] = degree_list\n",
        "\n",
        "#Sum of all the degrees.\n",
        "total_degree = sum(df.Degree)\n",
        "df"
      ],
      "metadata": {
        "id": "4dkt_09Kx6Z7",
        "colab": {
          "base_uri": "https://localhost:8080/",
          "height": 424
        },
        "outputId": "8adc1755-84f8-4eac-caa2-b2f08bfb05b0"
      },
      "execution_count": 11,
      "outputs": [
        {
          "output_type": "execute_result",
          "data": {
            "text/plain": [
              "                   Node  Degree\n",
              "0            2970279814      81\n",
              "1            1068499286      72\n",
              "2             252819323      22\n",
              "3              36686040      53\n",
              "4             168673083       5\n",
              "..                  ...     ...\n",
              "426  816705409486618624      10\n",
              "427          1058256326      21\n",
              "428  816298918468259841      88\n",
              "429          3044993235      71\n",
              "430           267938462      85\n",
              "\n",
              "[431 rows x 2 columns]"
            ],
            "text/html": [
              "\n",
              "  <div id=\"df-3264baab-1257-419e-89be-561f1dfc47c9\">\n",
              "    <div class=\"colab-df-container\">\n",
              "      <div>\n",
              "<style scoped>\n",
              "    .dataframe tbody tr th:only-of-type {\n",
              "        vertical-align: middle;\n",
              "    }\n",
              "\n",
              "    .dataframe tbody tr th {\n",
              "        vertical-align: top;\n",
              "    }\n",
              "\n",
              "    .dataframe thead th {\n",
              "        text-align: right;\n",
              "    }\n",
              "</style>\n",
              "<table border=\"1\" class=\"dataframe\">\n",
              "  <thead>\n",
              "    <tr style=\"text-align: right;\">\n",
              "      <th></th>\n",
              "      <th>Node</th>\n",
              "      <th>Degree</th>\n",
              "    </tr>\n",
              "  </thead>\n",
              "  <tbody>\n",
              "    <tr>\n",
              "      <th>0</th>\n",
              "      <td>2970279814</td>\n",
              "      <td>81</td>\n",
              "    </tr>\n",
              "    <tr>\n",
              "      <th>1</th>\n",
              "      <td>1068499286</td>\n",
              "      <td>72</td>\n",
              "    </tr>\n",
              "    <tr>\n",
              "      <th>2</th>\n",
              "      <td>252819323</td>\n",
              "      <td>22</td>\n",
              "    </tr>\n",
              "    <tr>\n",
              "      <th>3</th>\n",
              "      <td>36686040</td>\n",
              "      <td>53</td>\n",
              "    </tr>\n",
              "    <tr>\n",
              "      <th>4</th>\n",
              "      <td>168673083</td>\n",
              "      <td>5</td>\n",
              "    </tr>\n",
              "    <tr>\n",
              "      <th>...</th>\n",
              "      <td>...</td>\n",
              "      <td>...</td>\n",
              "    </tr>\n",
              "    <tr>\n",
              "      <th>426</th>\n",
              "      <td>816705409486618624</td>\n",
              "      <td>10</td>\n",
              "    </tr>\n",
              "    <tr>\n",
              "      <th>427</th>\n",
              "      <td>1058256326</td>\n",
              "      <td>21</td>\n",
              "    </tr>\n",
              "    <tr>\n",
              "      <th>428</th>\n",
              "      <td>816298918468259841</td>\n",
              "      <td>88</td>\n",
              "    </tr>\n",
              "    <tr>\n",
              "      <th>429</th>\n",
              "      <td>3044993235</td>\n",
              "      <td>71</td>\n",
              "    </tr>\n",
              "    <tr>\n",
              "      <th>430</th>\n",
              "      <td>267938462</td>\n",
              "      <td>85</td>\n",
              "    </tr>\n",
              "  </tbody>\n",
              "</table>\n",
              "<p>431 rows × 2 columns</p>\n",
              "</div>\n",
              "      <button class=\"colab-df-convert\" onclick=\"convertToInteractive('df-3264baab-1257-419e-89be-561f1dfc47c9')\"\n",
              "              title=\"Convert this dataframe to an interactive table.\"\n",
              "              style=\"display:none;\">\n",
              "        \n",
              "  <svg xmlns=\"http://www.w3.org/2000/svg\" height=\"24px\"viewBox=\"0 0 24 24\"\n",
              "       width=\"24px\">\n",
              "    <path d=\"M0 0h24v24H0V0z\" fill=\"none\"/>\n",
              "    <path d=\"M18.56 5.44l.94 2.06.94-2.06 2.06-.94-2.06-.94-.94-2.06-.94 2.06-2.06.94zm-11 1L8.5 8.5l.94-2.06 2.06-.94-2.06-.94L8.5 2.5l-.94 2.06-2.06.94zm10 10l.94 2.06.94-2.06 2.06-.94-2.06-.94-.94-2.06-.94 2.06-2.06.94z\"/><path d=\"M17.41 7.96l-1.37-1.37c-.4-.4-.92-.59-1.43-.59-.52 0-1.04.2-1.43.59L10.3 9.45l-7.72 7.72c-.78.78-.78 2.05 0 2.83L4 21.41c.39.39.9.59 1.41.59.51 0 1.02-.2 1.41-.59l7.78-7.78 2.81-2.81c.8-.78.8-2.07 0-2.86zM5.41 20L4 18.59l7.72-7.72 1.47 1.35L5.41 20z\"/>\n",
              "  </svg>\n",
              "      </button>\n",
              "      \n",
              "  <style>\n",
              "    .colab-df-container {\n",
              "      display:flex;\n",
              "      flex-wrap:wrap;\n",
              "      gap: 12px;\n",
              "    }\n",
              "\n",
              "    .colab-df-convert {\n",
              "      background-color: #E8F0FE;\n",
              "      border: none;\n",
              "      border-radius: 50%;\n",
              "      cursor: pointer;\n",
              "      display: none;\n",
              "      fill: #1967D2;\n",
              "      height: 32px;\n",
              "      padding: 0 0 0 0;\n",
              "      width: 32px;\n",
              "    }\n",
              "\n",
              "    .colab-df-convert:hover {\n",
              "      background-color: #E2EBFA;\n",
              "      box-shadow: 0px 1px 2px rgba(60, 64, 67, 0.3), 0px 1px 3px 1px rgba(60, 64, 67, 0.15);\n",
              "      fill: #174EA6;\n",
              "    }\n",
              "\n",
              "    [theme=dark] .colab-df-convert {\n",
              "      background-color: #3B4455;\n",
              "      fill: #D2E3FC;\n",
              "    }\n",
              "\n",
              "    [theme=dark] .colab-df-convert:hover {\n",
              "      background-color: #434B5C;\n",
              "      box-shadow: 0px 1px 3px 1px rgba(0, 0, 0, 0.15);\n",
              "      filter: drop-shadow(0px 1px 2px rgba(0, 0, 0, 0.3));\n",
              "      fill: #FFFFFF;\n",
              "    }\n",
              "  </style>\n",
              "\n",
              "      <script>\n",
              "        const buttonEl =\n",
              "          document.querySelector('#df-3264baab-1257-419e-89be-561f1dfc47c9 button.colab-df-convert');\n",
              "        buttonEl.style.display =\n",
              "          google.colab.kernel.accessAllowed ? 'block' : 'none';\n",
              "\n",
              "        async function convertToInteractive(key) {\n",
              "          const element = document.querySelector('#df-3264baab-1257-419e-89be-561f1dfc47c9');\n",
              "          const dataTable =\n",
              "            await google.colab.kernel.invokeFunction('convertToInteractive',\n",
              "                                                     [key], {});\n",
              "          if (!dataTable) return;\n",
              "\n",
              "          const docLinkHtml = 'Like what you see? Visit the ' +\n",
              "            '<a target=\"_blank\" href=https://colab.research.google.com/notebooks/data_table.ipynb>data table notebook</a>'\n",
              "            + ' to learn more about interactive tables.';\n",
              "          element.innerHTML = '';\n",
              "          dataTable['output_type'] = 'display_data';\n",
              "          await google.colab.output.renderOutput(dataTable, element);\n",
              "          const docLink = document.createElement('div');\n",
              "          docLink.innerHTML = docLinkHtml;\n",
              "          element.appendChild(docLink);\n",
              "        }\n",
              "      </script>\n",
              "    </div>\n",
              "  </div>\n",
              "  "
            ]
          },
          "metadata": {},
          "execution_count": 11
        }
      ]
    },
    {
      "cell_type": "code",
      "source": [
        "freq_dict = {x:degree_list.count(x) for x in degree_list}\n",
        "freq_dict\n",
        "n_degree = []\n",
        "n_freq = []\n",
        "for k in freq_dict.keys():\n",
        "  n_degree.append(k)\n",
        "for v in freq_dict.values():\n",
        "  n_freq.append(v)\n",
        "dcols = ['Degree_k']\n",
        "df_freq = pd.DataFrame(n_degree, columns=dcols)\n",
        "df_freq = df_freq.sort_values('Degree_k')\n",
        "df_freq['Freq'] = n_freq\n",
        "p_x_freq = []\n",
        "for f in df_freq.Freq:\n",
        "  p_x_freq.append(f/total_degree)\n",
        "df_freq['P_k'] = p_x_freq\n",
        "df_freq"
      ],
      "metadata": {
        "colab": {
          "base_uri": "https://localhost:8080/",
          "height": 424
        },
        "id": "kgCpo-bhySBm",
        "outputId": "d6fade5c-9522-498a-9003-bbca952d2630"
      },
      "execution_count": 12,
      "outputs": [
        {
          "output_type": "execute_result",
          "data": {
            "text/plain": [
              "    Degree_k  Freq       P_k\n",
              "43         1     2  0.000118\n",
              "27         2     2  0.000118\n",
              "44         3     5  0.000296\n",
              "7          4     1  0.000059\n",
              "4          5    15  0.000887\n",
              "..       ...   ...       ...\n",
              "35       138     2  0.000118\n",
              "83       165     1  0.000059\n",
              "98       168     1  0.000059\n",
              "95       173     1  0.000059\n",
              "99       201     1  0.000059\n",
              "\n",
              "[113 rows x 3 columns]"
            ],
            "text/html": [
              "\n",
              "  <div id=\"df-d4c0766f-121b-49a6-a6c7-29e1b44a4288\">\n",
              "    <div class=\"colab-df-container\">\n",
              "      <div>\n",
              "<style scoped>\n",
              "    .dataframe tbody tr th:only-of-type {\n",
              "        vertical-align: middle;\n",
              "    }\n",
              "\n",
              "    .dataframe tbody tr th {\n",
              "        vertical-align: top;\n",
              "    }\n",
              "\n",
              "    .dataframe thead th {\n",
              "        text-align: right;\n",
              "    }\n",
              "</style>\n",
              "<table border=\"1\" class=\"dataframe\">\n",
              "  <thead>\n",
              "    <tr style=\"text-align: right;\">\n",
              "      <th></th>\n",
              "      <th>Degree_k</th>\n",
              "      <th>Freq</th>\n",
              "      <th>P_k</th>\n",
              "    </tr>\n",
              "  </thead>\n",
              "  <tbody>\n",
              "    <tr>\n",
              "      <th>43</th>\n",
              "      <td>1</td>\n",
              "      <td>2</td>\n",
              "      <td>0.000118</td>\n",
              "    </tr>\n",
              "    <tr>\n",
              "      <th>27</th>\n",
              "      <td>2</td>\n",
              "      <td>2</td>\n",
              "      <td>0.000118</td>\n",
              "    </tr>\n",
              "    <tr>\n",
              "      <th>44</th>\n",
              "      <td>3</td>\n",
              "      <td>5</td>\n",
              "      <td>0.000296</td>\n",
              "    </tr>\n",
              "    <tr>\n",
              "      <th>7</th>\n",
              "      <td>4</td>\n",
              "      <td>1</td>\n",
              "      <td>0.000059</td>\n",
              "    </tr>\n",
              "    <tr>\n",
              "      <th>4</th>\n",
              "      <td>5</td>\n",
              "      <td>15</td>\n",
              "      <td>0.000887</td>\n",
              "    </tr>\n",
              "    <tr>\n",
              "      <th>...</th>\n",
              "      <td>...</td>\n",
              "      <td>...</td>\n",
              "      <td>...</td>\n",
              "    </tr>\n",
              "    <tr>\n",
              "      <th>35</th>\n",
              "      <td>138</td>\n",
              "      <td>2</td>\n",
              "      <td>0.000118</td>\n",
              "    </tr>\n",
              "    <tr>\n",
              "      <th>83</th>\n",
              "      <td>165</td>\n",
              "      <td>1</td>\n",
              "      <td>0.000059</td>\n",
              "    </tr>\n",
              "    <tr>\n",
              "      <th>98</th>\n",
              "      <td>168</td>\n",
              "      <td>1</td>\n",
              "      <td>0.000059</td>\n",
              "    </tr>\n",
              "    <tr>\n",
              "      <th>95</th>\n",
              "      <td>173</td>\n",
              "      <td>1</td>\n",
              "      <td>0.000059</td>\n",
              "    </tr>\n",
              "    <tr>\n",
              "      <th>99</th>\n",
              "      <td>201</td>\n",
              "      <td>1</td>\n",
              "      <td>0.000059</td>\n",
              "    </tr>\n",
              "  </tbody>\n",
              "</table>\n",
              "<p>113 rows × 3 columns</p>\n",
              "</div>\n",
              "      <button class=\"colab-df-convert\" onclick=\"convertToInteractive('df-d4c0766f-121b-49a6-a6c7-29e1b44a4288')\"\n",
              "              title=\"Convert this dataframe to an interactive table.\"\n",
              "              style=\"display:none;\">\n",
              "        \n",
              "  <svg xmlns=\"http://www.w3.org/2000/svg\" height=\"24px\"viewBox=\"0 0 24 24\"\n",
              "       width=\"24px\">\n",
              "    <path d=\"M0 0h24v24H0V0z\" fill=\"none\"/>\n",
              "    <path d=\"M18.56 5.44l.94 2.06.94-2.06 2.06-.94-2.06-.94-.94-2.06-.94 2.06-2.06.94zm-11 1L8.5 8.5l.94-2.06 2.06-.94-2.06-.94L8.5 2.5l-.94 2.06-2.06.94zm10 10l.94 2.06.94-2.06 2.06-.94-2.06-.94-.94-2.06-.94 2.06-2.06.94z\"/><path d=\"M17.41 7.96l-1.37-1.37c-.4-.4-.92-.59-1.43-.59-.52 0-1.04.2-1.43.59L10.3 9.45l-7.72 7.72c-.78.78-.78 2.05 0 2.83L4 21.41c.39.39.9.59 1.41.59.51 0 1.02-.2 1.41-.59l7.78-7.78 2.81-2.81c.8-.78.8-2.07 0-2.86zM5.41 20L4 18.59l7.72-7.72 1.47 1.35L5.41 20z\"/>\n",
              "  </svg>\n",
              "      </button>\n",
              "      \n",
              "  <style>\n",
              "    .colab-df-container {\n",
              "      display:flex;\n",
              "      flex-wrap:wrap;\n",
              "      gap: 12px;\n",
              "    }\n",
              "\n",
              "    .colab-df-convert {\n",
              "      background-color: #E8F0FE;\n",
              "      border: none;\n",
              "      border-radius: 50%;\n",
              "      cursor: pointer;\n",
              "      display: none;\n",
              "      fill: #1967D2;\n",
              "      height: 32px;\n",
              "      padding: 0 0 0 0;\n",
              "      width: 32px;\n",
              "    }\n",
              "\n",
              "    .colab-df-convert:hover {\n",
              "      background-color: #E2EBFA;\n",
              "      box-shadow: 0px 1px 2px rgba(60, 64, 67, 0.3), 0px 1px 3px 1px rgba(60, 64, 67, 0.15);\n",
              "      fill: #174EA6;\n",
              "    }\n",
              "\n",
              "    [theme=dark] .colab-df-convert {\n",
              "      background-color: #3B4455;\n",
              "      fill: #D2E3FC;\n",
              "    }\n",
              "\n",
              "    [theme=dark] .colab-df-convert:hover {\n",
              "      background-color: #434B5C;\n",
              "      box-shadow: 0px 1px 3px 1px rgba(0, 0, 0, 0.15);\n",
              "      filter: drop-shadow(0px 1px 2px rgba(0, 0, 0, 0.3));\n",
              "      fill: #FFFFFF;\n",
              "    }\n",
              "  </style>\n",
              "\n",
              "      <script>\n",
              "        const buttonEl =\n",
              "          document.querySelector('#df-d4c0766f-121b-49a6-a6c7-29e1b44a4288 button.colab-df-convert');\n",
              "        buttonEl.style.display =\n",
              "          google.colab.kernel.accessAllowed ? 'block' : 'none';\n",
              "\n",
              "        async function convertToInteractive(key) {\n",
              "          const element = document.querySelector('#df-d4c0766f-121b-49a6-a6c7-29e1b44a4288');\n",
              "          const dataTable =\n",
              "            await google.colab.kernel.invokeFunction('convertToInteractive',\n",
              "                                                     [key], {});\n",
              "          if (!dataTable) return;\n",
              "\n",
              "          const docLinkHtml = 'Like what you see? Visit the ' +\n",
              "            '<a target=\"_blank\" href=https://colab.research.google.com/notebooks/data_table.ipynb>data table notebook</a>'\n",
              "            + ' to learn more about interactive tables.';\n",
              "          element.innerHTML = '';\n",
              "          dataTable['output_type'] = 'display_data';\n",
              "          await google.colab.output.renderOutput(dataTable, element);\n",
              "          const docLink = document.createElement('div');\n",
              "          docLink.innerHTML = docLinkHtml;\n",
              "          element.appendChild(docLink);\n",
              "        }\n",
              "      </script>\n",
              "    </div>\n",
              "  </div>\n",
              "  "
            ]
          },
          "metadata": {},
          "execution_count": 12
        }
      ]
    },
    {
      "cell_type": "code",
      "source": [
        "plt.ylabel('$p_k$')\n",
        "plt.xlabel('Degree')\n",
        "plt.tick_params(left = False, right = False, labelleft = False, labelbottom = False, bottom = False)\n",
        "degree_dist_plot = plt.plot(df_freq.Degree_k, df_freq.P_k, linewidth=2, color='pink')"
      ],
      "metadata": {
        "colab": {
          "base_uri": "https://localhost:8080/",
          "height": 262
        },
        "id": "M_onT4slmP9U",
        "outputId": "c794f312-a294-4d01-af98-2e22f5fe57c5"
      },
      "execution_count": 13,
      "outputs": [
        {
          "output_type": "display_data",
          "data": {
            "text/plain": [
              "<Figure size 432x288 with 1 Axes>"
            ],
            "image/png": "[encoded data removed]"
          },
          "metadata": {}
        }
      ]
    },
    {
      "cell_type": "code",
      "source": [
        "xlog = np.log(df_freq.Degree_k)\n",
        "ylog = np.log(df_freq.P_k)\n",
        "plt.ylabel('$Log(p_k)$')\n",
        "plt.xlabel('$Log(Degree)$')\n",
        "plt.tick_params(left = False, right = False, labelleft = False, labelbottom = False, bottom = False)\n",
        "loglog_plot = plt.plot(xlog, ylog, linewidth=2, color='pink')"
      ],
      "metadata": {
        "colab": {
          "base_uri": "https://localhost:8080/",
          "height": 266
        },
        "id": "9EuSxSiz3mM0",
        "outputId": "cbfdefbd-af46-4d18-bfdc-ce4a7fca2c71"
      },
      "execution_count": 14,
      "outputs": [
        {
          "output_type": "display_data",
          "data": {
            "text/plain": [
              "<Figure size 432x288 with 1 Axes>"
            ],
            "image/png": "[encoded data removed]"
          },
          "metadata": {}
        }
      ]
    },
    {
      "cell_type": "markdown",
      "source": [
        "*As explained above, if a power-law distribution exists, we should observe a straight line. No straight line exists, so it means it **does not satisfy the power-law degree distribution** property.*"
      ],
      "metadata": {
        "id": "S99RwRgM7nEo"
      }
    },
    {
      "cell_type": "markdown",
      "source": [
        "#### Local Clustering Coefficient\n",
        "*   *To determine whether a Real-World Graph has a high average local clustering coefficient, its measure must be compared with the result obtained in a Simulated Graph.*\n",
        "\n",
        "*To do this, a Random Graph with a fixed number of nodes and a probability ($p$) that $C(n, 2)$ edges form independently is computed.*\n",
        "\n",
        "*   *$p = c /(n-1)$, where $p$ is the probability that edges are selected independently, $c$ is the average degree, and $n$ the # of nodes involved in the graph (subgraph resulting from the largest connected component of the initial graph).*\n",
        "\n",
        "*By comparing both results, we could conclude if the average local clustering coefficient is high (being even higher than on the simulated graph).*"
      ],
      "metadata": {
        "id": "_Zh_BCvrm80o"
      }
    },
    {
      "cell_type": "code",
      "source": [
        "#probability(p)=average degree/(nodes-1)\n",
        "n_degrees = len(df_freq.Degree_k)\n",
        "avg_degree = total_degree/n_degrees\n",
        "p = avg_degree/(n_nodes-1)\n",
        "rand_G = nx.gnp_random_graph(n_nodes, p, 50)\n",
        "r_avg_ccoef = nx.average_clustering(rand_G)\n",
        "avg_ccoef = nx.average_clustering(G0)\n",
        "print(\"Simulated Random Graph Average Clustering Coefficient: \", '{:.2f}'.format(r_avg_ccoef))\n",
        "print(\"115th House Retweets Graph Average Clustering Coefficient: \", '{:.2f}'.format(avg_ccoef))"
      ],
      "metadata": {
        "colab": {
          "base_uri": "https://localhost:8080/"
        },
        "id": "t737jS9_9bhX",
        "outputId": "a79444d8-eb05-44ed-e2eb-6ba1f228db8a"
      },
      "execution_count": null,
      "outputs": [
        {
          "output_type": "stream",
          "name": "stdout",
          "text": [
            "Simulated Random Graph Average Clustering Coefficient:  0.34\n",
            "115th House Retweets Graph Average Clustering Coefficient:  0.43\n"
          ]
        }
      ]
    },
    {
      "cell_type": "markdown",
      "source": [
        "*The average local clustering coefficient is high as compared to random graph. It means that transitivity does not happen by chance.*"
      ],
      "metadata": {
        "id": "DQjBd_ukEklH"
      }
    },
    {
      "cell_type": "markdown",
      "source": [
        "#### Shortest Path Length"
      ],
      "metadata": {
        "id": "USbD4AH7rguk"
      }
    },
    {
      "cell_type": "code",
      "source": [
        "avg_p_len = nx.average_shortest_path_length(G0)\n",
        "print(\"115th House Retweets Graph Average Path Length: \", '{:.2f}'.format(avg_p_len))"
      ],
      "metadata": {
        "colab": {
          "base_uri": "https://localhost:8080/"
        },
        "id": "ydS5FBhUEr0j",
        "outputId": "b9bfc442-1dc5-4d1e-f487-62cf13c30ede"
      },
      "execution_count": 15,
      "outputs": [
        {
          "output_type": "stream",
          "name": "stdout",
          "text": [
            "115th House Retweets Graph Average Path Length:  2.21\n"
          ]
        }
      ]
    },
    {
      "cell_type": "code",
      "source": [
        "c = ['Power-Law Degree Distribution', 'High Average Local Clustering coefficient', 'Low Average Path Length']\n",
        "data = [['No', 'Yes', 'Yes']]\n",
        "summary = pd.DataFrame(data, columns = c)\n",
        "print(\"Does G0 satisfies the three properties of real-world social networks?\")\n",
        "summary"
      ],
      "metadata": {
        "colab": {
          "base_uri": "https://localhost:8080/",
          "height": 99
        },
        "id": "SECxT1ml8oIw",
        "outputId": "12a26145-f01d-411f-d368-9a920acd618c"
      },
      "execution_count": 20,
      "outputs": [
        {
          "output_type": "stream",
          "name": "stdout",
          "text": [
            "Does G0 satisfies the three properties of real-world social networks?\n"
          ]
        },
        {
          "output_type": "execute_result",
          "data": {
            "text/plain": [
              "  Power-Law Degree Distribution High Average Local Clustering coefficient  \\\n",
              "0                            No                                       Yes   \n",
              "\n",
              "  Low Average Path Length  \n",
              "0                     Yes  "
            ],
            "text/html": [
              "\n",
              "  <div id=\"df-4c283827-2a6e-4bcd-8cd4-6fc3855fb700\">\n",
              "    <div class=\"colab-df-container\">\n",
              "      <div>\n",
              "<style scoped>\n",
              "    .dataframe tbody tr th:only-of-type {\n",
              "        vertical-align: middle;\n",
              "    }\n",
              "\n",
              "    .dataframe tbody tr th {\n",
              "        vertical-align: top;\n",
              "    }\n",
              "\n",
              "    .dataframe thead th {\n",
              "        text-align: right;\n",
              "    }\n",
              "</style>\n",
              "<table border=\"1\" class=\"dataframe\">\n",
              "  <thead>\n",
              "    <tr style=\"text-align: right;\">\n",
              "      <th></th>\n",
              "      <th>Power-Law Degree Distribution</th>\n",
              "      <th>High Average Local Clustering coefficient</th>\n",
              "      <th>Low Average Path Length</th>\n",
              "    </tr>\n",
              "  </thead>\n",
              "  <tbody>\n",
              "    <tr>\n",
              "      <th>0</th>\n",
              "      <td>No</td>\n",
              "      <td>Yes</td>\n",
              "      <td>Yes</td>\n",
              "    </tr>\n",
              "  </tbody>\n",
              "</table>\n",
              "</div>\n",
              "      <button class=\"colab-df-convert\" onclick=\"convertToInteractive('df-4c283827-2a6e-4bcd-8cd4-6fc3855fb700')\"\n",
              "              title=\"Convert this dataframe to an interactive table.\"\n",
              "              style=\"display:none;\">\n",
              "        \n",
              "  <svg xmlns=\"http://www.w3.org/2000/svg\" height=\"24px\"viewBox=\"0 0 24 24\"\n",
              "       width=\"24px\">\n",
              "    <path d=\"M0 0h24v24H0V0z\" fill=\"none\"/>\n",
              "    <path d=\"M18.56 5.44l.94 2.06.94-2.06 2.06-.94-2.06-.94-.94-2.06-.94 2.06-2.06.94zm-11 1L8.5 8.5l.94-2.06 2.06-.94-2.06-.94L8.5 2.5l-.94 2.06-2.06.94zm10 10l.94 2.06.94-2.06 2.06-.94-2.06-.94-.94-2.06-.94 2.06-2.06.94z\"/><path d=\"M17.41 7.96l-1.37-1.37c-.4-.4-.92-.59-1.43-.59-.52 0-1.04.2-1.43.59L10.3 9.45l-7.72 7.72c-.78.78-.78 2.05 0 2.83L4 21.41c.39.39.9.59 1.41.59.51 0 1.02-.2 1.41-.59l7.78-7.78 2.81-2.81c.8-.78.8-2.07 0-2.86zM5.41 20L4 18.59l7.72-7.72 1.47 1.35L5.41 20z\"/>\n",
              "  </svg>\n",
              "      </button>\n",
              "      \n",
              "  <style>\n",
              "    .colab-df-container {\n",
              "      display:flex;\n",
              "      flex-wrap:wrap;\n",
              "      gap: 12px;\n",
              "    }\n",
              "\n",
              "    .colab-df-convert {\n",
              "      background-color: #E8F0FE;\n",
              "      border: none;\n",
              "      border-radius: 50%;\n",
              "      cursor: pointer;\n",
              "      display: none;\n",
              "      fill: #1967D2;\n",
              "      height: 32px;\n",
              "      padding: 0 0 0 0;\n",
              "      width: 32px;\n",
              "    }\n",
              "\n",
              "    .colab-df-convert:hover {\n",
              "      background-color: #E2EBFA;\n",
              "      box-shadow: 0px 1px 2px rgba(60, 64, 67, 0.3), 0px 1px 3px 1px rgba(60, 64, 67, 0.15);\n",
              "      fill: #174EA6;\n",
              "    }\n",
              "\n",
              "    [theme=dark] .colab-df-convert {\n",
              "      background-color: #3B4455;\n",
              "      fill: #D2E3FC;\n",
              "    }\n",
              "\n",
              "    [theme=dark] .colab-df-convert:hover {\n",
              "      background-color: #434B5C;\n",
              "      box-shadow: 0px 1px 3px 1px rgba(0, 0, 0, 0.15);\n",
              "      filter: drop-shadow(0px 1px 2px rgba(0, 0, 0, 0.3));\n",
              "      fill: #FFFFFF;\n",
              "    }\n",
              "  </style>\n",
              "\n",
              "      <script>\n",
              "        const buttonEl =\n",
              "          document.querySelector('#df-4c283827-2a6e-4bcd-8cd4-6fc3855fb700 button.colab-df-convert');\n",
              "        buttonEl.style.display =\n",
              "          google.colab.kernel.accessAllowed ? 'block' : 'none';\n",
              "\n",
              "        async function convertToInteractive(key) {\n",
              "          const element = document.querySelector('#df-4c283827-2a6e-4bcd-8cd4-6fc3855fb700');\n",
              "          const dataTable =\n",
              "            await google.colab.kernel.invokeFunction('convertToInteractive',\n",
              "                                                     [key], {});\n",
              "          if (!dataTable) return;\n",
              "\n",
              "          const docLinkHtml = 'Like what you see? Visit the ' +\n",
              "            '<a target=\"_blank\" href=https://colab.research.google.com/notebooks/data_table.ipynb>data table notebook</a>'\n",
              "            + ' to learn more about interactive tables.';\n",
              "          element.innerHTML = '';\n",
              "          dataTable['output_type'] = 'display_data';\n",
              "          await google.colab.output.renderOutput(dataTable, element);\n",
              "          const docLink = document.createElement('div');\n",
              "          docLink.innerHTML = docLinkHtml;\n",
              "          element.appendChild(docLink);\n",
              "        }\n",
              "      </script>\n",
              "    </div>\n",
              "  </div>\n",
              "  "
            ]
          },
          "metadata": {},
          "execution_count": 20
        }
      ]
    },
    {
      "cell_type": "markdown",
      "source": [
        " ### Real-world social networks' centrality measures\n",
        " \n",
        "\n",
        "*   Degree centrality.\n",
        "*   Eigenvector centrality.\n",
        "*   Pagerank.\n",
        "*   Betweenness centrality.\n",
        "*   Closeness centrality."
      ],
      "metadata": {
        "id": "NjvxsP5CruaI"
      }
    },
    {
      "cell_type": "markdown",
      "source": [
        "#### Degree Centrality\n",
        "*   *It is the number of edges it has.*\n",
        "*   *The **higher** the degree, the **more central** the node is.*\n",
        "\n"
      ],
      "metadata": {
        "id": "zG-WiL8dsVrR"
      }
    },
    {
      "cell_type": "code",
      "source": [
        "d_cent = nx.degree_centrality(G0)\n",
        "d_cent = dict(sorted(d_cent.items(), key=lambda item:item[1], reverse=True))\n",
        "#top_d_cent = take(10, d_cent.items())\n",
        "d_cent = dict(list(d_cent.items())[:10])\n",
        "#print(d_cent)\n",
        "k = 1\n",
        "print(\"According to Degree Centrality: \")\n",
        "for i, j in d_cent.items():\n",
        "  print(\"   Top \", k, \" most central node: \", i, \"\\n      Centrality: \", '{:.3f}'.format(j), \"\\n\")\n",
        "  k += 1"
      ],
      "metadata": {
        "colab": {
          "base_uri": "https://localhost:8080/"
        },
        "id": "Qp07KQ_-Er7w",
        "outputId": "f494588b-7bdd-43f8-df95-d9a3dbe593b3"
      },
      "execution_count": null,
      "outputs": [
        {
          "output_type": "stream",
          "name": "stdout",
          "text": [
            "According to Degree Centrality: \n",
            "   Top  1  most central node:  18916432 \n",
            "      Centrality:  0.467 \n",
            "\n",
            "   Top  2  most central node:  15764644 \n",
            "      Centrality:  0.402 \n",
            "\n",
            "   Top  3  most central node:  1209417007 \n",
            "      Centrality:  0.391 \n",
            "\n",
            "   Top  4  most central node:  22012091 \n",
            "      Centrality:  0.384 \n",
            "\n",
            "   Top  5  most central node:  2962868158 \n",
            "      Centrality:  0.321 \n",
            "\n",
            "   Top  6  most central node:  111635980 \n",
            "      Centrality:  0.312 \n",
            "\n",
            "   Top  7  most central node:  24195214 \n",
            "      Centrality:  0.302 \n",
            "\n",
            "   Top  8  most central node:  242426145 \n",
            "      Centrality:  0.302 \n",
            "\n",
            "   Top  9  most central node:  1077121945 \n",
            "      Centrality:  0.302 \n",
            "\n",
            "   Top  10  most central node:  40302336 \n",
            "      Centrality:  0.300 \n",
            "\n"
          ]
        }
      ]
    },
    {
      "cell_type": "markdown",
      "source": [
        "#### Eigenvector Centrality\n",
        "*   *It measures the **transitive influence** of nodes.*\n",
        "*   *A **high eigenvector score** means that a node is connected to many **nodes who themselves have high scores**.*\n",
        "\n"
      ],
      "metadata": {
        "id": "e6wCqT_oyh1W"
      }
    },
    {
      "cell_type": "code",
      "source": [
        "eigenvector_cent = nx.eigenvector_centrality(G0)\n",
        "eigenvector_cent = dict(sorted(eigenvector_cent.items(), key=lambda item:item[1], reverse=True))\n",
        "#top_d_cent = take(10, d_cent.items())\n",
        "eigenvector_cent = dict(list(eigenvector_cent.items())[:10])\n",
        "#print(d_cent)\n",
        "k = 1\n",
        "print(\"According to Eigenvector Centrality:\\n\")\n",
        "for i, j in eigenvector_cent.items():\n",
        "  print(\"   Top \", k, \" most central node: \", i, \"\\n      Centrality: \", '{:.3f}'.format(j), \"\\n\")\n",
        "  k += 1"
      ],
      "metadata": {
        "colab": {
          "base_uri": "https://localhost:8080/"
        },
        "id": "6ZorcGtsEr93",
        "outputId": "0a943534-d0f0-4965-f498-1dd50e55b32f"
      },
      "execution_count": null,
      "outputs": [
        {
          "output_type": "stream",
          "name": "stdout",
          "text": [
            "According to Eigenvector Centrality:\n",
            "\n",
            "   Top  1  most central node:  15764644 \n",
            "      Centrality:  0.146 \n",
            "\n",
            "   Top  2  most central node:  22012091 \n",
            "      Centrality:  0.141 \n",
            "\n",
            "   Top  3  most central node:  111635980 \n",
            "      Centrality:  0.130 \n",
            "\n",
            "   Top  4  most central node:  24195214 \n",
            "      Centrality:  0.128 \n",
            "\n",
            "   Top  5  most central node:  2962868158 \n",
            "      Centrality:  0.126 \n",
            "\n",
            "   Top  6  most central node:  1077121945 \n",
            "      Centrality:  0.124 \n",
            "\n",
            "   Top  7  most central node:  140519774 \n",
            "      Centrality:  0.119 \n",
            "\n",
            "   Top  8  most central node:  384913290 \n",
            "      Centrality:  0.118 \n",
            "\n",
            "   Top  9  most central node:  40302336 \n",
            "      Centrality:  0.117 \n",
            "\n",
            "   Top  10  most central node:  2863006655 \n",
            "      Centrality:  0.117 \n",
            "\n"
          ]
        }
      ]
    },
    {
      "cell_type": "markdown",
      "source": [
        "#### PageRank\n",
        "*   *Algorithm used by Google to calculate the importance of a particular web page based on its incoming links.*\n",
        "*   *The **higher** the PageRank of a link, the **more authoritative** it is.*\n",
        "*   *A page that is linked to by many pages with high PageRank receives a high rank itself.*\n",
        "\n",
        "\n"
      ],
      "metadata": {
        "id": "66aNVbXB0DfJ"
      }
    },
    {
      "cell_type": "code",
      "source": [
        "pagerank_cent = nx.pagerank(G0)\n",
        "pagerank_cent = dict(sorted(pagerank_cent.items(), key=lambda item:item[1], reverse=True))\n",
        "#top_d_cent = take(10, d_cent.items())\n",
        "pagerank_cent = dict(list(pagerank_cent.items())[:10])\n",
        "#print(d_cent)\n",
        "k = 1\n",
        "print(\"According to PageRank:\\n\")\n",
        "for i, j in pagerank_cent.items():\n",
        "  print(\"   Top \", k, \" most central node: \", i, \"\\n      Score: \", '{:.3f}'.format(j), \"\\n\")\n",
        "  k += 1"
      ],
      "metadata": {
        "colab": {
          "base_uri": "https://localhost:8080/"
        },
        "id": "7xVzJOY2yfHT",
        "outputId": "6a978612-5ffa-490f-fc66-30393d9b6898"
      },
      "execution_count": null,
      "outputs": [
        {
          "output_type": "stream",
          "name": "stdout",
          "text": [
            "According to PageRank:\n",
            "\n",
            "   Top  1  most central node:  18916432 \n",
            "      Score:  0.017 \n",
            "\n",
            "   Top  2  most central node:  1209417007 \n",
            "      Score:  0.013 \n",
            "\n",
            "   Top  3  most central node:  19739126 \n",
            "      Score:  0.010 \n",
            "\n",
            "   Top  4  most central node:  17976923 \n",
            "      Score:  0.010 \n",
            "\n",
            "   Top  5  most central node:  235312723 \n",
            "      Score:  0.008 \n",
            "\n",
            "   Top  6  most central node:  15764644 \n",
            "      Score:  0.008 \n",
            "\n",
            "   Top  7  most central node:  22012091 \n",
            "      Score:  0.007 \n",
            "\n",
            "   Top  8  most central node:  2962868158 \n",
            "      Score:  0.006 \n",
            "\n",
            "   Top  9  most central node:  242426145 \n",
            "      Score:  0.006 \n",
            "\n",
            "   Top  10  most central node:  1077121945 \n",
            "      Score:  0.006 \n",
            "\n"
          ]
        }
      ]
    },
    {
      "cell_type": "markdown",
      "source": [
        "#### Betweenness Centrality\n",
        "*   *How important nodes are in connecting other nodes.*\n",
        "*   *The amount of **influence** a node has over the flow of information in a graph.*\n",
        "*   *Nodes with **high** betweenness might have considerable influence within a network in terms of their **control over information** passing between others.*"
      ],
      "metadata": {
        "id": "nItxNUxu1kiR"
      }
    },
    {
      "cell_type": "code",
      "source": [
        "betweenness_cent = nx.betweenness_centrality(G0)\n",
        "betweenness_cent = dict(sorted(betweenness_cent.items(), key=lambda item:item[1], reverse=True))\n",
        "#top_d_cent = take(10, d_cent.items())\n",
        "betweenness_cent = dict(list(betweenness_cent.items())[:10])\n",
        "#print(d_cent)\n",
        "k = 1\n",
        "print(\"According to Betweenness Centrality:\\n\")\n",
        "for i, j in betweenness_cent.items():\n",
        "  print(\"   Top \", k, \" most central node: \", i, \"\\n      Centrality: \", '{:.3f}'.format(j), \"\\n\")\n",
        "  k += 1"
      ],
      "metadata": {
        "colab": {
          "base_uri": "https://localhost:8080/"
        },
        "id": "Ap2GMWznyfJf",
        "outputId": "42bdcbfd-33dd-4c94-fbbf-3155fc183947"
      },
      "execution_count": null,
      "outputs": [
        {
          "output_type": "stream",
          "name": "stdout",
          "text": [
            "According to Betweenness Centrality:\n",
            "\n",
            "   Top  1  most central node:  18916432 \n",
            "      Centrality:  0.123 \n",
            "\n",
            "   Top  2  most central node:  1209417007 \n",
            "      Centrality:  0.089 \n",
            "\n",
            "   Top  3  most central node:  17976923 \n",
            "      Centrality:  0.037 \n",
            "\n",
            "   Top  4  most central node:  19739126 \n",
            "      Centrality:  0.034 \n",
            "\n",
            "   Top  5  most central node:  15764644 \n",
            "      Centrality:  0.026 \n",
            "\n",
            "   Top  6  most central node:  14275291 \n",
            "      Centrality:  0.025 \n",
            "\n",
            "   Top  7  most central node:  235312723 \n",
            "      Centrality:  0.020 \n",
            "\n",
            "   Top  8  most central node:  22012091 \n",
            "      Centrality:  0.020 \n",
            "\n",
            "   Top  9  most central node:  242426145 \n",
            "      Centrality:  0.015 \n",
            "\n",
            "   Top  10  most central node:  248735463 \n",
            "      Centrality:  0.014 \n",
            "\n"
          ]
        }
      ]
    },
    {
      "cell_type": "markdown",
      "source": [
        "#### Closeness Centrality\n",
        "*   *How close a node is to all other nodes in the network.*\n",
        "*   *Influential and central nodes can **quickly reach** other nodes.*\n",
        "*   *These nodes should have a **smaller average shortest path length** to other nodes.*\n",
        "*   Nodes with a **high closeness score** have the shortest distances to all other nodes.\n",
        "\n",
        "\n",
        "\n",
        "\n"
      ],
      "metadata": {
        "id": "tQgqhV1i3c4j"
      }
    },
    {
      "cell_type": "code",
      "source": [
        "closeness_cent = nx.closeness_centrality(G0)\n",
        "closeness_cent = dict(sorted(closeness_cent.items(), key=lambda item:item[1], reverse=True))\n",
        "#top_d_cent = take(10, d_cent.items())\n",
        "closeness_cent = dict(list(closeness_cent.items())[:10])\n",
        "#print(d_cent)\n",
        "k = 1\n",
        "print(\"According to Closeness Centrality:\\n\")\n",
        "for i, j in closeness_cent.items():\n",
        "  print(\"   Top \", k, \" most central node: \", i, \"\\n      Centrality: \", '{:.3f}'.format(j), \"\\n\")\n",
        "  k += 1"
      ],
      "metadata": {
        "colab": {
          "base_uri": "https://localhost:8080/"
        },
        "id": "D3fBgrC6yfLl",
        "outputId": "ab78f4d3-77ce-417a-a33b-17e117746edd"
      },
      "execution_count": null,
      "outputs": [
        {
          "output_type": "stream",
          "name": "stdout",
          "text": [
            "According to Closeness Centrality:\n",
            "\n",
            "   Top  1  most central node:  18916432 \n",
            "      Centrality:  0.640 \n",
            "\n",
            "   Top  2  most central node:  1209417007 \n",
            "      Centrality:  0.615 \n",
            "\n",
            "   Top  3  most central node:  15764644 \n",
            "      Centrality:  0.596 \n",
            "\n",
            "   Top  4  most central node:  22012091 \n",
            "      Centrality:  0.588 \n",
            "\n",
            "   Top  5  most central node:  19739126 \n",
            "      Centrality:  0.573 \n",
            "\n",
            "   Top  6  most central node:  137794015 \n",
            "      Centrality:  0.567 \n",
            "\n",
            "   Top  7  most central node:  17976923 \n",
            "      Centrality:  0.561 \n",
            "\n",
            "   Top  8  most central node:  2916086925 \n",
            "      Centrality:  0.544 \n",
            "\n",
            "   Top  9  most central node:  2962868158 \n",
            "      Centrality:  0.541 \n",
            "\n",
            "   Top  10  most central node:  242426145 \n",
            "      Centrality:  0.541 \n",
            "\n"
          ]
        }
      ]
    }
  ]
}